{
 "cells": [
  {
   "cell_type": "markdown",
   "metadata": {},
   "source": [
    "# Marks_vs_StudyTime_using_Linear_Regression "
   ]
  },
  {
   "cell_type": "markdown",
   "metadata": {},
   "source": [
    "### Regression basically means we want to predict a continous value outcome"
   ]
  },
  {
   "cell_type": "code",
   "execution_count": 1,
   "metadata": {},
   "outputs": [],
   "source": [
    "import numpy as np\n",
    "import pandas as pd\n",
    "import matplotlib.pyplot as plt"
   ]
  },
  {
   "cell_type": "markdown",
   "metadata": {},
   "source": [
    "### Load the data"
   ]
  },
  {
   "cell_type": "code",
   "execution_count": 2,
   "metadata": {},
   "outputs": [
    {
     "name": "stdout",
     "output_type": "stream",
     "text": [
      "(3750, 1)\n",
      "(3750, 1)\n",
      "           y\n",
      "0  -0.091101\n",
      "1 -53.467721\n",
      "2  75.457009\n",
      "3 -12.025286\n",
      "4  57.414187\n",
      "<class 'pandas.core.frame.DataFrame'>\n",
      "<class 'numpy.ndarray'>\n"
     ]
    }
   ],
   "source": [
    "import pandas as pd\n",
    "x=pd.read_csv('./Linear_Regression_Data/Linear_X_Train.csv')\n",
    "y=pd.read_csv('./Linear_Regression_Data/Linear_Y_Train.csv')\n",
    "\n",
    "print(x.shape)\n",
    "print(y.shape)\n",
    "print(y.head())\n",
    "\n",
    " \n",
    "print(type(x))\n",
    "# Here we can see that x is in pandas data frame so converting it to numpy using .values\n",
    "\n",
    "X=x.values\n",
    "Y=y.values\n",
    "\n",
    "# We have converted to numpy from Pandas\n",
    "print(type(X))"
   ]
  },
  {
   "cell_type": "markdown",
   "metadata": {},
   "source": [
    "### Visualize the data"
   ]
  },
  {
   "cell_type": "code",
   "execution_count": 3,
   "metadata": {},
   "outputs": [
    {
     "data": {
      "image/png": "[encoded data removed]",
      "text/plain": [
       "<Figure size 576x396 with 1 Axes>"
      ]
     },
     "metadata": {},
     "output_type": "display_data"
    }
   ],
   "source": [
    "plt.style.use('seaborn')\n",
    "plt.scatter(x,y,color='pink')\n",
    "plt.title('Marks vs time graph')\n",
    "plt.xlabel('Time')\n",
    "plt.ylabel('Marks')\n",
    "plt.show()"
   ]
  },
  {
   "cell_type": "markdown",
   "metadata": {},
   "source": [
    "### We only normalize the x values we dont normalize the y values"
   ]
  },
  {
   "cell_type": "code",
   "execution_count": 4,
   "metadata": {},
   "outputs": [
    {
     "name": "stdout",
     "output_type": "stream",
     "text": [
      "(3750, 1)\n",
      "3750\n"
     ]
    }
   ],
   "source": [
    "u=X.mean()\n",
    "std=X.std()\n",
    "X=(X-u)/std\n",
    "\n",
    "print(X.shape)\n",
    "print(X.shape[0])"
   ]
  },
  {
   "cell_type": "markdown",
   "metadata": {},
   "source": [
    "# Applying Linear Regression"
   ]
  },
  {
   "cell_type": "code",
   "execution_count": 5,
   "metadata": {},
   "outputs": [
    {
     "name": "stdout",
     "output_type": "stream",
     "text": [
      "[ 0.6838508  79.90361453]\n"
     ]
    }
   ],
   "source": [
    "# yh is yhat i.e the estimated value of y\n",
    "\n",
    "def hypo(x,theta):\n",
    "    yh=theta[0]+theta[1]*x\n",
    "    return yh\n",
    "\n",
    "\n",
    "\n",
    "\n",
    "def gradient(X,Y,theta):\n",
    "    m=X.shape[0]\n",
    "    grad=np.zeros((2,))\n",
    "    \n",
    "    for i in range(m):\n",
    "        yh=hypo(X[i],theta)\n",
    "        grad[0]+=(yh-Y[i])\n",
    "        grad[1]+=(yh-Y[i])*X[i]\n",
    "    return grad/m\n",
    "    # This division by m will divide both the values grad[0] and grad[1]\n",
    "\n",
    "\n",
    "\n",
    "def error(X,Y,theta):\n",
    "    m=X.shape[0]\n",
    "    total_error=0.0\n",
    "    \n",
    "    for i in range(m):\n",
    "        yh=hypo(X[i],theta)\n",
    "        total_error+=(Y[i]-yh)**2\n",
    "        # We are taking the square value instead of mod because this makes our function differnciable\n",
    "        #i.e we are basically calculating mean squared error\n",
    "    return total_error/m\n",
    "\n",
    "\n",
    "def grad_des(X,Y,learn_rate=0.1,max_step=100):\n",
    "    # np.zeros((2,)) it means we have a numpy array of two zeros\n",
    "    theta=np.zeros((2,))\n",
    "    error_list=[]\n",
    "    \n",
    "    for i in range(max_step):\n",
    "        grad=gradient(X,Y,theta)\n",
    "        e=error(X,Y,theta)\n",
    "        error_list.append(e)\n",
    "        \n",
    "        \n",
    "        theta[0]=theta[0]-(learn_rate*grad[0])\n",
    "        theta[1]=theta[1]-(learn_rate*grad[1])\n",
    "        \n",
    "    return theta,error_list\n",
    "\n",
    "\n",
    "\n",
    "\n",
    "theta,error_list=grad_des(X,Y)\n",
    "\n",
    "print(theta)\n"
   ]
  },
  {
   "cell_type": "markdown",
   "metadata": {},
   "source": [
    "### We can see the error is continously decreasing the printing the error list and after certain iterations it has almost saturated"
   ]
  },
  {
   "cell_type": "code",
   "execution_count": 6,
   "metadata": {},
   "outputs": [
    {
     "data": {
      "text/plain": [
       "[array([6576.35005246]),\n",
       " array([5363.12510257]),\n",
       " array([4380.41289317]),\n",
       " array([3584.41600355]),\n",
       " array([2939.65852295]),\n",
       " array([2417.40496367]),\n",
       " array([1994.37958066]),\n",
       " array([1651.72902041]),\n",
       " array([1374.18206661]),\n",
       " array([1149.36903404]),\n",
       " array([967.27047765]),\n",
       " array([819.77064698]),\n",
       " array([700.29578413]),\n",
       " array([603.52114523]),\n",
       " array([525.13368772]),\n",
       " array([461.63984713]),\n",
       " array([410.20983626]),\n",
       " array([368.55152745]),\n",
       " array([334.80829731]),\n",
       " array([307.47628091]),\n",
       " array([285.33734761]),\n",
       " array([267.40481165]),\n",
       " array([252.87945752]),\n",
       " array([241.11392067]),\n",
       " array([231.58383582]),\n",
       " array([223.8644671]),\n",
       " array([217.61177843]),\n",
       " array([212.54710061]),\n",
       " array([208.44471157]),\n",
       " array([205.12177646]),\n",
       " array([202.43019901]),\n",
       " array([200.25002128]),\n",
       " array([198.48407732]),\n",
       " array([197.05366271]),\n",
       " array([195.89502687]),\n",
       " array([194.95653185]),\n",
       " array([194.19635088]),\n",
       " array([193.58060429]),\n",
       " array([193.08184956]),\n",
       " array([192.67785822]),\n",
       " array([192.35062524]),\n",
       " array([192.08556653]),\n",
       " array([191.87086897]),\n",
       " array([191.69696394]),\n",
       " array([191.55610088]),\n",
       " array([191.44200179]),\n",
       " array([191.34958153]),\n",
       " array([191.27472112]),\n",
       " array([191.21408419]),\n",
       " array([191.16496827]),\n",
       " array([191.12518438]),\n",
       " array([191.09295943]),\n",
       " array([191.06685722]),\n",
       " array([191.04571443]),\n",
       " array([191.02858877]),\n",
       " array([191.01471698]),\n",
       " array([191.00348084]),\n",
       " array([190.99437956]),\n",
       " array([190.98700752]),\n",
       " array([190.98103617]),\n",
       " array([190.97619938]),\n",
       " array([190.97228158]),\n",
       " array([190.96910816]),\n",
       " array([190.96653769]),\n",
       " array([190.96445561]),\n",
       " array([190.96276913]),\n",
       " array([190.96140307]),\n",
       " array([190.96029657]),\n",
       " array([190.9594003]),\n",
       " array([190.95867433]),\n",
       " array([190.95808628]),\n",
       " array([190.95760997]),\n",
       " array([190.95722416]),\n",
       " array([190.95691165]),\n",
       " array([190.95665852]),\n",
       " array([190.95645348]),\n",
       " array([190.9562874]),\n",
       " array([190.95615287]),\n",
       " array([190.95604391]),\n",
       " array([190.95595565]),\n",
       " array([190.95588415]),\n",
       " array([190.95582625]),\n",
       " array([190.95577934]),\n",
       " array([190.95574135]),\n",
       " array([190.95571057]),\n",
       " array([190.95568564]),\n",
       " array([190.95566545]),\n",
       " array([190.9556491]),\n",
       " array([190.95563585]),\n",
       " array([190.95562512]),\n",
       " array([190.95561643]),\n",
       " array([190.95560939]),\n",
       " array([190.95560368]),\n",
       " array([190.95559906]),\n",
       " array([190.95559532]),\n",
       " array([190.95559229]),\n",
       " array([190.95558984]),\n",
       " array([190.95558785]),\n",
       " array([190.95558624]),\n",
       " array([190.95558493])]"
      ]
     },
     "execution_count": 6,
     "metadata": {},
     "output_type": "execute_result"
    }
   ],
   "source": [
    "error_list"
   ]
  },
  {
   "cell_type": "markdown",
   "metadata": {},
   "source": [
    "### We can see that after certain iterations error has become constant"
   ]
  },
  {
   "cell_type": "code",
   "execution_count": 7,
   "metadata": {},
   "outputs": [
    {
     "data": {
      "text/plain": [
       "Text(0.5, 1.0, 'Reduction in error with the maximum iterations')"
      ]
     },
     "execution_count": 7,
     "metadata": {},
     "output_type": "execute_result"
    },
    {
     "data": {
      "image/png": "[encoded data removed]",
      "text/plain": [
       "<Figure size 576x396 with 1 Axes>"
      ]
     },
     "metadata": {},
     "output_type": "display_data"
    }
   ],
   "source": [
    "plt.plot(error_list)\n",
    "plt.title(\"Reduction in error with the maximum iterations\")"
   ]
  },
  {
   "cell_type": "markdown",
   "metadata": {},
   "source": [
    "## Prediction of best line"
   ]
  },
  {
   "cell_type": "code",
   "execution_count": 8,
   "metadata": {},
   "outputs": [
    {
     "name": "stdout",
     "output_type": "stream",
     "text": [
      "(3750, 1)\n"
     ]
    },
    {
     "data": {
      "image/png": "[encoded data removed]",
      "text/plain": [
       "<Figure size 576x396 with 1 Axes>"
      ]
     },
     "metadata": {},
     "output_type": "display_data"
    }
   ],
   "source": [
    "# Now we are giving the derived value of theta\n",
    "# Here we can give a single value of X to the hypothesis funciton or we can provide with the full numpy array\n",
    "# calculations will be holded in that way only \n",
    "yh=hypo(X,theta)\n",
    "print(yh.shape)\n",
    "\n",
    "\n",
    "# Scattering the original data and ploting the predicted line\n",
    "plt.scatter(X,Y)\n",
    "plt.plot(X,yh,color='orange',label='Predicted Values')\n",
    "plt.legend()\n",
    "plt.show()\n",
    "#  Without legend label will not show up"
   ]
  },
  {
   "cell_type": "markdown",
   "metadata": {},
   "source": [
    "# Making prection on Test Data"
   ]
  },
  {
   "cell_type": "markdown",
   "metadata": {},
   "source": [
    "###  We have calculated Most optimal theta and by using that we are predcicting y"
   ]
  },
  {
   "cell_type": "code",
   "execution_count": 9,
   "metadata": {},
   "outputs": [],
   "source": [
    "# Readind the testcases and converting it into numpy array by using values\n",
    "X_Test=pd.read_csv('./Linear_Regression_Data/Linear_X_Test.csv').values\n",
    "\n",
    "\n",
    "# After loading the X_test predict the y_test by hypothesis function by using our calculated theta\n",
    "# Here again we can pass the entire numpy array to the hypothesis function so calculations are done that way only\n",
    "Y_test=hypo(X_Test,theta)\n",
    "\n",
    "\n",
    "# Now we have to submit it online so we have to create a csv file in the same format as Y_training data\n",
    "\n",
    "# Columns represent number of coloumns and the name of coloumn\n",
    "df=pd.DataFrame(data=Y_test,columns=[\"y\"])\n",
    "\n",
    "\n",
    "\n",
    "# Now we are creating a csv file without indexes i.e numbering \n",
    "df.to_csv('hardwork_pays_off_answer.csv',index=False)\n"
   ]
  },
  {
   "cell_type": "markdown",
   "metadata": {},
   "source": [
    "### Score of submission is calculated using R2 score i.e (1- (sumation from 1 to m(  (yi-yh)** 2)/ (yi-yavg)** 2)))\n",
    "### i.e highest value of R2 score can be 1 and lowest can be in negative also\n",
    "### in best case yi=yh and R2 score will be 1 and in worst case we have yh=yavg so R2=0"
   ]
  },
  {
   "cell_type": "code",
   "execution_count": 10,
   "metadata": {},
   "outputs": [
    {
     "data": {
      "text/plain": [
       "97.09612226971643"
      ]
     },
     "execution_count": 10,
     "metadata": {},
     "output_type": "execute_result"
    }
   ],
   "source": [
    "def r2_score(Y,yh):\n",
    "    num=np.sum((Y-yh)**2)\n",
    "    deo=np.sum((Y-Y.mean())**2)\n",
    "    \n",
    "    score=1-(num/deo)\n",
    "    return score*100\n",
    "\n",
    "r2_score(Y,yh)"
   ]
  },
  {
   "cell_type": "markdown",
   "metadata": {},
   "source": [
    "### So that's why our score is 97% on online judge"
   ]
  },
  {
   "cell_type": "code",
   "execution_count": null,
   "metadata": {},
   "outputs": [],
   "source": []
  }
 ],
 "metadata": {
  "kernelspec": {
   "display_name": "Python 3",
   "language": "python",
   "name": "python3"
  },
  "language_info": {
   "codemirror_mode": {
    "name": "ipython",
    "version": 3
   },
   "file_extension": ".py",
   "mimetype": "text/x-python",
   "name": "python",
   "nbconvert_exporter": "python",
   "pygments_lexer": "ipython3",
   "version": "3.7.3"
  }
 },
 "nbformat": 4,
 "nbformat_minor": 2
}
